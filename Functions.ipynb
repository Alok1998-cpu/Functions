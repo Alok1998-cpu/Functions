{
  "nbformat": 4,
  "nbformat_minor": 0,
  "metadata": {
    "colab": {
      "provenance": []
    },
    "kernelspec": {
      "name": "python3",
      "display_name": "Python 3"
    },
    "language_info": {
      "name": "python"
    }
  },
  "cells": [
    {
      "cell_type": "markdown",
      "source": [
        "Functions\n"
      ],
      "metadata": {
        "id": "dH41TWxkxsz4"
      }
    },
    {
      "cell_type": "code",
      "execution_count": null,
      "metadata": {
        "id": "3NwNnp1Iwtcs"
      },
      "outputs": [],
      "source": []
    },
    {
      "cell_type": "markdown",
      "source": [
        "1- What is the difference between a function and a method in Python?\n",
        "\n",
        "   - In Python, both functions and methods are blocks of reusable code designed to perform specific tasks, but their key distinction lies in their association with objects and classes\n",
        "   Functions are independent, while methods are dependent on an object or class.\n",
        "Methods are a type of function, but not all functions are methods. All methods are functions, but functions are only methods when they are defined within a class and operate on an instance of that class.\n",
        "\n",
        "2-  Explain the concept of function arguments and parameters in Python?\n",
        "\n",
        "    - In Python, the terms \"parameters\" and \"arguments\" are distinct concepts related to functions.\n",
        "Parameters:\n",
        "Parameters are the variables defined within the parentheses in a function's definition. They act as placeholders for the values that the function expects to receive when it is called.\n",
        "Arguments:\n",
        "Arguments are the actual values passed to a function when it is called. These values are assigned to the corresponding parameters in the function definition.\n",
        "\n",
        "3-  What are the different ways to define and call a function in Python?\n",
        "  \n",
        "    - Functions in Python are defined using the def keyword, followed by the function name, parentheses (), and a colon :. The code block that constitutes the function's body is indented.\n",
        "    Calling a Function in Python-\n",
        "To execute a defined function, it must be called. This is done by using the function's name followed by parentheses (), which may contain arguments if the function expects them.\n",
        "Different Ways to Call a Function:\n",
        "Positional Arguments: Arguments are passed in the order they are defined in the function signature\n",
        "Keyword Arguments: Arguments are passed by specifying the parameter name, allowing for out-of-order passing.\n",
        "Default Arguments: Parameters can have default values, making them optional during function calls\n",
        "Arbitrary Arguments (*args and `: kwargs`):**\n",
        "*args allows a function to accept an arbitrary number of positional arguments as a tuple.\n",
        "\n",
        "4-  What is the purpose of the `return` statement in a Python function?\n",
        "\n",
        "    - The return statement in a Python function serves two primary purposes:\n",
        "Exiting the Function:\n",
        "When a return statement is encountered during the execution of a function, it immediately terminates the function's execution. Control is then passed back to the point in the code where the function was called. Any code within the function after the return statement will not be executed.\n",
        "Returning a Value:\n",
        "The return statement can be used to send one or more values back to the caller of the function. This returned value (or values) can then be stored in a variable, used in further calculations, or passed as an argument to another function. If no value is specified with the return statement, or if no return statement is present in a function, the function implicitly returns None.\n",
        "\n",
        "5-  What are iterators in Python and how do they differ from iterables?\n",
        "\n",
        "    - Here is a list of the differences between Iterable and Iterator in Python. An Iterable is basically an object that any user can iterate over. An Iterator is also an object that helps a user in iterating over another object (that is iterable).\n",
        "Iterators control loops, allowing us to traverse arbitrary data containers one item at a time. Iterables, on the other hand, provide the data that we want to iterate over.\n",
        "\n",
        "6- Explain the concept of generators in Python and how they are defined?\n",
        "\n",
        "   - In Python, a generator is a special type of iterator that allows you to create sequences of values on demand, rather than storing the entire sequence in memory at once. This is achieved using the yield keyword within a function, which suspends the function's execution and returns a value, allowing it to be resumed later from where it left off.\n",
        "How Generators are Defined:\n",
        "A generator function in Python is defined like a regular function, but instead of using return to send back a value, it uses yield. When a generator function is called, it doesn't execute the code immediately. Instead, it returns a generator object, which is an iterator.\n",
        "\n",
        "7- What are the advantages of using generators over regular functions?\n",
        "\n",
        "   - Generators offer significant advantages over regular functions, primarily in memory efficiency and handling large or infinite sequences. They generate values on demand, avoiding the need to store the entire sequence in memory, making them ideal for working with large datasets or continuous data streams. Additionally, generators can simplify iterative logic and improve code readability.\n",
        "\n",
        "8-What is a lambda function in Python and when is it typically used?\n",
        "\n",
        "  - In Python, a lambda function is a small, anonymous function defined without a name using the lambda keyword. It can only contain a single expression, which is evaluated and returned. Lambda functions are typically used for short, simple operations, especially when passing a function as an argument to another function like map, filter, or sorted.\n",
        "\n",
        "9-  Explain the purpose and usage of the `map()` function in Python ?\n",
        "\n",
        "\n",
        "   The map() function in Python is a built-in higher-order function that applies a given function to each item in an iterable (like a list, tuple, or set) and returns an iterator yielding the results.\n",
        "Purpose:\n",
        "The primary purpose of map() is to efficiently transform or process elements within an iterable without explicitly writing a for loop. This leads to more concise, readable, and often more performant code, especially for large datasets, as it leverages C-level optimizations.\n",
        "Usage:\n",
        "The map() function takes two main arguments:\n",
        "function:\n",
        "The function to be applied to each item of the iterable(s). This can be a named function, a lambda function, or a built-in function.\n",
        "iterable:\n",
        "One or more iterable objects whose elements will be passed to the function. If multiple iterables are provided, the function must accept a corresponding number of arguments, and map() will process elements in parallel from each iterable until the shortest iterable is exhausted.\n",
        "\n",
        "\n",
        "10 -  What is the difference between `map()`, `reduce()`, and `filter()` functions in Python?\n",
        "\n",
        "     - The map(), filter(), and reduce() functions in Python are higher-order functions used for processing iterables, each serving a distinct purpose:\n",
        "map(): This function applies a given function to each item in an iterable (e.g., a list, tuple) and returns an iterator that yields the results. It is used for transforming elements.\n",
        "filter(): This function constructs an iterator from elements of an iterable for which a function returns true. It is used for selecting elements based on a condition.\n",
        "reduce(): This function (found in the functools module) applies a function of two arguments cumulatively to the items of an iterable, from left to right, so as to reduce the iterable to a single value. It is used for aggregating or combining elements.\n",
        "In summary: map() transforms elements, filter() selects elements, and reduce() aggregates elements into a single result.\n",
        "\n",
        "\n",
        "\n",
        "\n",
        "\n",
        "\n",
        "\n",
        "\n",
        "\n",
        "\n",
        "\n",
        "\n"
      ],
      "metadata": {
        "id": "Hy1SHOZF1Qvf"
      }
    },
    {
      "cell_type": "code",
      "source": [
        "\n",
        "\n"
      ],
      "metadata": {
        "id": "n43wIqTjA602"
      },
      "execution_count": null,
      "outputs": []
    },
    {
      "cell_type": "markdown",
      "source": [
        "#  Write a Python function that takes a list of numbers as input and returns the sum of all even numbers in\n",
        "the list."
      ],
      "metadata": {
        "id": "uyD819xAB0WU"
      }
    },
    {
      "cell_type": "markdown",
      "source": [],
      "metadata": {
        "id": "sWS9j4lOCu9r"
      }
    },
    {
      "cell_type": "code",
      "source": [
        "def sum_even_numbers(numbers):\n",
        "    \"\"\"\n",
        "    Calculates the sum of all even numbers in a list.\n",
        "\n",
        "    Args:\n",
        "      numbers: A list of integers.\n",
        "\n",
        "    Returns:\n",
        "      The sum of all even numbers in the list.\n",
        "    \"\"\"\n",
        "    total = 0\n",
        "    for number in numbers:\n",
        "        if number % 2 == 0:\n",
        "            total += number\n",
        "    return total"
      ],
      "metadata": {
        "id": "S0l9xFefBGku"
      },
      "execution_count": 1,
      "outputs": []
    },
    {
      "cell_type": "markdown",
      "source": [],
      "metadata": {
        "id": "RcyR5TohAy9j"
      }
    },
    {
      "cell_type": "markdown",
      "source": [
        "#  Create a Python function that accepts a string and returns the reverse of that string."
      ],
      "metadata": {
        "id": "MRZvLByrBlMz"
      }
    },
    {
      "cell_type": "code",
      "source": [
        "def reverse_string(input_string):\n",
        "  \"\"\"\n",
        "  Reverses the given input string.\n",
        "\n",
        "  Args:\n",
        "    input_string: The string to be reversed.\n",
        "\n",
        "  Returns:\n",
        "    The reversed string.\n",
        "  \"\"\"\n",
        "  return input_string[::-1]\n",
        "\n",
        "# Example usage:\n",
        "original_str = \"hello\"\n",
        "reversed_str = reverse_string(original_str)\n",
        "print(f\"Original string: {original_str}\")\n",
        "print(f\"Reversed string: {reversed_str}\")\n",
        "\n",
        "original_str_2 = \"Python\"\n",
        "reversed_str_2 = reverse_string(original_str_2)\n",
        "print(f\"Original string: {original_str_2}\")\n",
        "print(f\"Reversed string: {reversed_str_2}\")"
      ],
      "metadata": {
        "colab": {
          "base_uri": "https://localhost:8080/"
        },
        "id": "PxmfcGpwDHUw",
        "outputId": "acb9ad64-3dfb-4457-ebd5-40a713ec4bf1"
      },
      "execution_count": 2,
      "outputs": [
        {
          "output_type": "stream",
          "name": "stdout",
          "text": [
            "Original string: hello\n",
            "Reversed string: olleh\n",
            "Original string: Python\n",
            "Reversed string: nohtyP\n"
          ]
        }
      ]
    },
    {
      "cell_type": "code",
      "source": [],
      "metadata": {
        "id": "c9lzV4p3Brbg"
      },
      "execution_count": null,
      "outputs": []
    },
    {
      "cell_type": "markdown",
      "source": [
        "# Implement a Python function that takes a list of integers and returns a new list containing the squares of each number.\n"
      ],
      "metadata": {
        "id": "Y6Ct8AxHDUdX"
      }
    },
    {
      "cell_type": "markdown",
      "source": [],
      "metadata": {
        "id": "ycjuKC6ODnun"
      }
    },
    {
      "cell_type": "code",
      "source": [
        "def square_list(numbers):\n",
        "  \"\"\"\n",
        "  This function takes a list of integers and returns a new list containing the squares of each number.\n",
        "\n",
        "  Args:\n",
        "    numbers: A list of integers.\n",
        "\n",
        "  Returns:\n",
        "    A new list containing the squares of the input numbers.\n",
        "  \"\"\"\n",
        "  return [number ** 2 for number in numbers]"
      ],
      "metadata": {
        "id": "SMo0yrKWDoh6"
      },
      "execution_count": 3,
      "outputs": []
    },
    {
      "cell_type": "code",
      "source": [],
      "metadata": {
        "id": "ejo0v68yDDYT"
      },
      "execution_count": null,
      "outputs": []
    },
    {
      "cell_type": "markdown",
      "source": [
        "#  Write a Python function that checks if a given number is prime or not from 1 to 200."
      ],
      "metadata": {
        "id": "esb6XLl3D1HI"
      }
    },
    {
      "cell_type": "markdown",
      "source": [],
      "metadata": {
        "id": "3BmYS3bND8EL"
      }
    },
    {
      "cell_type": "code",
      "source": [
        "def square_list(numbers):\n",
        "  \"\"\"\n",
        "  This function takes a list of integers and returns a new list containing the squares of each number.\n",
        "\n",
        "  Args:\n",
        "    numbers: A list of integers.\n",
        "\n",
        "  Returns:\n",
        "    A new list containing the squares of the input numbers.\n",
        "  \"\"\"\n",
        "  return [number ** 2 for number in numbers]"
      ],
      "metadata": {
        "id": "xg6nKhF8D886"
      },
      "execution_count": 4,
      "outputs": []
    },
    {
      "cell_type": "markdown",
      "source": [
        "# Create an iterator class in Python that generates the Fibonacci sequence up to a specified number of\n",
        "terms."
      ],
      "metadata": {
        "id": "3h4xjxcEFeAK"
      }
    },
    {
      "cell_type": "markdown",
      "source": [],
      "metadata": {
        "id": "_H1QFbLFFmri"
      }
    },
    {
      "cell_type": "code",
      "source": [
        "class FibonacciIterator:\n",
        "    def __init__(self, num_terms):\n",
        "        if num_terms < 0:\n",
        "            raise ValueError(\"Number of terms must be a non-negative integer.\")\n",
        "        self._num_terms = num_terms\n",
        "        self._current_term = 0\n",
        "        self._a = 0\n",
        "        self._b = 1\n",
        "\n",
        "    def __iter__(self):\n",
        "        return self\n",
        "\n",
        "    def __next__(self):\n",
        "        if self._current_term >= self._num_terms:\n",
        "            raise StopIteration\n",
        "\n",
        "        if self._current_term == 0:\n",
        "            self._current_term += 1\n",
        "            return self._a\n",
        "        elif self._current_term == 1:\n",
        "            self._current_term += 1\n",
        "            return self._b\n",
        "        else:\n",
        "            next_fib = self._a + self._b\n",
        "            self._a = self._b\n",
        "            self._b = next_fib\n",
        "            self._current_term += 1\n",
        "            return next_fib\n",
        "\n",
        "# Example usage:\n",
        "if __name__ == \"__main__\":\n",
        "    fib_iterator = FibonacciIterator(10)\n",
        "    print(\"Fibonacci sequence up to 10 terms:\")\n",
        "    for num in fib_iterator:\n",
        "        print(num)\n",
        "\n",
        "    print(\"\\nFibonacci sequence up to 5 terms:\")\n",
        "    fib_iterator_short = FibonacciIterator(5)\n",
        "    for num in fib_iterator_short:\n",
        "        print(num)"
      ],
      "metadata": {
        "colab": {
          "base_uri": "https://localhost:8080/"
        },
        "id": "OKzMf5dPFna2",
        "outputId": "dfa80fd4-3eba-4f12-d1ab-680985f8b492"
      },
      "execution_count": 5,
      "outputs": [
        {
          "output_type": "stream",
          "name": "stdout",
          "text": [
            "Fibonacci sequence up to 10 terms:\n",
            "0\n",
            "1\n",
            "1\n",
            "2\n",
            "3\n",
            "5\n",
            "8\n",
            "13\n",
            "21\n",
            "34\n",
            "\n",
            "Fibonacci sequence up to 5 terms:\n",
            "0\n",
            "1\n",
            "1\n",
            "2\n",
            "3\n"
          ]
        }
      ]
    },
    {
      "cell_type": "markdown",
      "source": [
        "#  Write a generator function in Python that yields the powers of 2 up to a given exponent."
      ],
      "metadata": {
        "id": "Qy870YktFxSR"
      }
    },
    {
      "cell_type": "markdown",
      "source": [],
      "metadata": {
        "id": "YMI5T_9cF2ih"
      }
    },
    {
      "cell_type": "code",
      "source": [
        "def powers_of_two_generator(max_exponent):\n",
        "    \"\"\"\n",
        "    Yields powers of 2 from 2^0 up to 2^max_exponent.\n",
        "\n",
        "    Args:\n",
        "        max_exponent (int): The maximum exponent for the powers of 2.\n",
        "    \"\"\"\n",
        "    for i in range(max_exponent + 1):\n",
        "        yield 2 ** i\n",
        "\n",
        "# Example usage:\n",
        "# Create a generator object\n",
        "two_powers = powers_of_two_generator(5)\n",
        "\n",
        "# Iterate and print the powers\n",
        "print(\"Powers of 2 up to exponent 5:\")\n",
        "for power in two_powers:\n",
        "    print(power)\n",
        "\n",
        "# You can also convert it to a list if needed (though it defeats the memory efficiency of generators for large sequences)\n",
        "powers_list = list(powers_of_two_generator(3))\n",
        "print(\"\\nPowers of 2 up to exponent 3 as a list:\", powers_list)"
      ],
      "metadata": {
        "colab": {
          "base_uri": "https://localhost:8080/"
        },
        "id": "dIDZraAmF4j1",
        "outputId": "456923e6-b7bd-4465-e584-5496d0671466"
      },
      "execution_count": 6,
      "outputs": [
        {
          "output_type": "stream",
          "name": "stdout",
          "text": [
            "Powers of 2 up to exponent 5:\n",
            "1\n",
            "2\n",
            "4\n",
            "8\n",
            "16\n",
            "32\n",
            "\n",
            "Powers of 2 up to exponent 3 as a list: [1, 2, 4, 8]\n"
          ]
        }
      ]
    },
    {
      "cell_type": "code",
      "source": [],
      "metadata": {
        "id": "5daOA-IUC-s3"
      },
      "execution_count": null,
      "outputs": []
    },
    {
      "cell_type": "markdown",
      "source": [
        "\n"
      ],
      "metadata": {
        "id": "nx-ilOboEQCz"
      }
    },
    {
      "cell_type": "markdown",
      "source": [],
      "metadata": {
        "id": "sZlU1xq3E0cd"
      }
    },
    {
      "cell_type": "code",
      "source": [],
      "metadata": {
        "id": "b4Jk2haIApsl"
      },
      "execution_count": null,
      "outputs": []
    },
    {
      "cell_type": "markdown",
      "source": [
        "# Implement a generator function that reads a file line by line and yields each line as a string."
      ],
      "metadata": {
        "id": "cJbi5GQIGPFj"
      }
    },
    {
      "cell_type": "markdown",
      "source": [],
      "metadata": {
        "id": "e9EXEzURGdUC"
      }
    },
    {
      "cell_type": "code",
      "source": [
        "def read_file_line_by_line(file_path):\n",
        "    \"\"\"\n",
        "    Reads a file line by line and yields each line as a string.\n",
        "\n",
        "    Args:\n",
        "        file_path (str): The path to the file to be read.\n",
        "\n",
        "    Yields:\n",
        "        str: Each line from the file.\n",
        "    \"\"\"\n",
        "    with open(file_path, 'r') as file:\n",
        "        for line in file:\n",
        "            yield line.strip('\\n') # Strip newline characters for cleaner output"
      ],
      "metadata": {
        "id": "Kw3EJKXoGeUT"
      },
      "execution_count": 7,
      "outputs": []
    },
    {
      "cell_type": "code",
      "source": [],
      "metadata": {
        "id": "8KYv3ipoGn6W"
      },
      "execution_count": null,
      "outputs": []
    },
    {
      "cell_type": "markdown",
      "source": [
        "#  Write a Python program that uses `map()` to convert a list of temperatures from Celsius to Fahrenheit."
      ],
      "metadata": {
        "id": "NAcLvE8ZG9aK"
      }
    },
    {
      "cell_type": "markdown",
      "source": [],
      "metadata": {
        "id": "1KpT_1DfHgN_"
      }
    },
    {
      "cell_type": "code",
      "source": [
        "def celsius_to_fahrenheit(celsius):\n",
        "  \"\"\"Converts a temperature from Celsius to Fahrenheit.\"\"\"\n",
        "  return (celsius * 9/5) + 32\n",
        "\n",
        "def convert_temperatures(celsius_list):\n",
        "    \"\"\"Converts a list of Celsius temperatures to Fahrenheit using map().\"\"\"\n",
        "    fahrenheit_list = list(map(celsius_to_fahrenheit, celsius_list))\n",
        "    return fahrenheit_list\n",
        "\n",
        "# Example usage:\n",
        "celsius_temps = [0, 10, 20, 30, 40]\n",
        "fahrenheit_temps = convert_temperatures(celsius_temps)\n",
        "print(f\"Celsius temperatures: {celsius_temps}\")\n",
        "print(f\"Fahrenheit temperatures: {fahrenheit_temps}\")"
      ],
      "metadata": {
        "colab": {
          "base_uri": "https://localhost:8080/"
        },
        "id": "GXt8B61AHhGJ",
        "outputId": "81e9cdce-0d63-4f0d-ddad-d154a9577de7"
      },
      "execution_count": 8,
      "outputs": [
        {
          "output_type": "stream",
          "name": "stdout",
          "text": [
            "Celsius temperatures: [0, 10, 20, 30, 40]\n",
            "Fahrenheit temperatures: [32.0, 50.0, 68.0, 86.0, 104.0]\n"
          ]
        }
      ]
    },
    {
      "cell_type": "markdown",
      "source": [],
      "metadata": {
        "id": "V1e3dW8YHUIw"
      }
    },
    {
      "cell_type": "markdown",
      "source": [
        "# . Create a Python program that uses `filter()` to remove all the vowels from a given string"
      ],
      "metadata": {
        "id": "G1-0oDdxHvNX"
      }
    },
    {
      "cell_type": "markdown",
      "source": [],
      "metadata": {
        "id": "X03tcHatH2YR"
      }
    },
    {
      "cell_type": "code",
      "source": [],
      "metadata": {
        "id": "dMOiw2khH2_d"
      },
      "execution_count": null,
      "outputs": []
    },
    {
      "cell_type": "markdown",
      "source": [],
      "metadata": {
        "id": "EQI2tNxDHDE2"
      }
    },
    {
      "cell_type": "code",
      "source": [],
      "metadata": {
        "id": "ZdHcleEtHD1L"
      },
      "execution_count": null,
      "outputs": []
    }
  ]
}